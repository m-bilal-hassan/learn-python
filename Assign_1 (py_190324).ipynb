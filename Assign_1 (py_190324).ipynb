{
 "cells": [
  {
   "cell_type": "markdown",
   "metadata": {
    "id": "UZXjlass3ARu"
   },
   "source": [
    "\n",
    "# **1. Basic Array Manipulation:**\n"
   ]
  },
  {
   "cell_type": "markdown",
   "metadata": {
    "id": "tDWPQRm23C7o"
   },
   "source": [
    "Create a 1D array with values ranging from 0 to 9.\n"
   ]
  },
  {
   "cell_type": "code",
   "execution_count": 1,
   "metadata": {
    "id": "OvGF66_02Q8H"
   },
   "outputs": [],
   "source": [
    "import numpy as np"
   ]
  },
  {
   "cell_type": "code",
   "execution_count": 2,
   "metadata": {},
   "outputs": [
    {
     "data": {
      "text/plain": [
       "array([0, 1, 2, 3, 4, 5, 6, 7, 8, 9])"
      ]
     },
     "execution_count": 2,
     "metadata": {},
     "output_type": "execute_result"
    }
   ],
   "source": [
    "array = np.arange(0,10)\n",
    "array"
   ]
  },
  {
   "cell_type": "markdown",
   "metadata": {
    "id": "UYzIzPyB3Ne3"
   },
   "source": [
    "Reshape the array into a 3x3 matrix.\n",
    "\n",
    "Explore Reshape Function"
   ]
  },
  {
   "cell_type": "code",
   "execution_count": 3,
   "metadata": {},
   "outputs": [
    {
     "name": "stdout",
     "output_type": "stream",
     "text": [
      "[[0 1 2]\n",
      " [3 4 5]\n",
      " [6 7 8]]\n"
     ]
    }
   ],
   "source": [
    "array = np.arange(0,9)  \n",
    "reshape_array= array.reshape(3, 3)\n",
    "print(reshape_array)"
   ]
  },
  {
   "cell_type": "markdown",
   "metadata": {
    "id": "KmhRK9Ti3Phn"
   },
   "source": [
    "Access the element at the second row, second column."
   ]
  },
  {
   "cell_type": "code",
   "execution_count": 4,
   "metadata": {
    "id": "Dk_a1D3A3ijN"
   },
   "outputs": [
    {
     "name": "stdout",
     "output_type": "stream",
     "text": [
      "4\n"
     ]
    }
   ],
   "source": [
    "array = np.arange(9).reshape(3, 3)  \n",
    "element = array[1, 1]  \n",
    "print(element)"
   ]
  },
  {
   "cell_type": "markdown",
   "metadata": {
    "id": "NlH7N-fZ36wc"
   },
   "source": [
    "Perform element-wise addition, subtraction, multiplication, and division on two arrays [1, 2, 3] and [4, 5, 6].\n"
   ]
  },
  {
   "cell_type": "code",
   "execution_count": 5,
   "metadata": {
    "id": "PkgNSo1a37kP"
   },
   "outputs": [
    {
     "data": {
      "text/plain": [
       "array([5, 7, 9])"
      ]
     },
     "execution_count": 5,
     "metadata": {},
     "output_type": "execute_result"
    }
   ],
   "source": [
    "list_1_arr=np.array([1,2,3])\n",
    "list_2_arr=np.array([4,5,6])\n",
    "list_1_arr+list_2_arr"
   ]
  },
  {
   "cell_type": "code",
   "execution_count": 6,
   "metadata": {},
   "outputs": [
    {
     "data": {
      "text/plain": [
       "array([-3, -3, -3])"
      ]
     },
     "execution_count": 6,
     "metadata": {},
     "output_type": "execute_result"
    }
   ],
   "source": [
    "list_1_arr=np.array([1,2,3])\n",
    "list_2_arr=np.array([4,5,6])\n",
    "list_1_arr-list_2_arr"
   ]
  },
  {
   "cell_type": "code",
   "execution_count": 7,
   "metadata": {},
   "outputs": [
    {
     "data": {
      "text/plain": [
       "array([ 4, 10, 18])"
      ]
     },
     "execution_count": 7,
     "metadata": {},
     "output_type": "execute_result"
    }
   ],
   "source": [
    "list_1_arr=np.array([1,2,3])\n",
    "list_2_arr=np.array([4,5,6])\n",
    "list_1_arr*list_2_arr"
   ]
  },
  {
   "cell_type": "code",
   "execution_count": 8,
   "metadata": {},
   "outputs": [
    {
     "data": {
      "text/plain": [
       "array([0.25, 0.4 , 0.5 ])"
      ]
     },
     "execution_count": 8,
     "metadata": {},
     "output_type": "execute_result"
    }
   ],
   "source": [
    "list_1_arr=np.array([1,2,3])\n",
    "list_2_arr=np.array([4,5,6])\n",
    "list_1_arr/list_2_arr"
   ]
  },
  {
   "cell_type": "markdown",
   "metadata": {
    "id": "JVt4zxkk8e0P"
   },
   "source": [
    "Find the sum, mean, and standard deviation of the array [1, 2, 3, 4, 5].\n"
   ]
  },
  {
   "cell_type": "code",
   "execution_count": 9,
   "metadata": {
    "id": "mQZxaZ0c8nhh"
   },
   "outputs": [
    {
     "data": {
      "text/plain": [
       "15"
      ]
     },
     "execution_count": 9,
     "metadata": {},
     "output_type": "execute_result"
    }
   ],
   "source": [
    "list_array=np.array([1,2,3,4,5])\n",
    "np.sum(list_array)"
   ]
  },
  {
   "cell_type": "code",
   "execution_count": 10,
   "metadata": {},
   "outputs": [
    {
     "data": {
      "text/plain": [
       "3.0"
      ]
     },
     "execution_count": 10,
     "metadata": {},
     "output_type": "execute_result"
    }
   ],
   "source": [
    "list_array=np.array([1,2,3,4,5])\n",
    "np.mean(list_array)"
   ]
  },
  {
   "cell_type": "code",
   "execution_count": 11,
   "metadata": {},
   "outputs": [
    {
     "data": {
      "text/plain": [
       "1.4142135623730951"
      ]
     },
     "execution_count": 11,
     "metadata": {},
     "output_type": "execute_result"
    }
   ],
   "source": [
    "list_array=np.array([1,2,3,4,5])\n",
    "np.std(list_array)"
   ]
  },
  {
   "cell_type": "markdown",
   "metadata": {
    "id": "ji2XvW0Z8nn5"
   },
   "source": [
    "Reshape the array [1, 2, 3, 4, 5, 6] into a 2x3 array.\n",
    "\n",
    "Explore Reshape"
   ]
  },
  {
   "cell_type": "code",
   "execution_count": 12,
   "metadata": {},
   "outputs": [
    {
     "data": {
      "text/plain": [
       "array([[1, 2, 3],\n",
       "       [4, 5, 6]])"
      ]
     },
     "execution_count": 12,
     "metadata": {},
     "output_type": "execute_result"
    }
   ],
   "source": [
    "list_arr=np.array([1,2,3,4,5,6])\n",
    "np.reshape(list_arr,(2,3))"
   ]
  },
  {
   "cell_type": "markdown",
   "metadata": {
    "id": "OE-5o0th3SU4"
   },
   "source": [
    "\n",
    "# **2. Indexing and Slicing:**\n"
   ]
  },
  {
   "cell_type": "markdown",
   "metadata": {
    "id": "yqNKWBOl3an3"
   },
   "source": [
    "Create a 5x5 array with random integers.\n"
   ]
  },
  {
   "cell_type": "code",
   "execution_count": 13,
   "metadata": {
    "id": "G-kX4nme2RBn"
   },
   "outputs": [
    {
     "name": "stdout",
     "output_type": "stream",
     "text": [
      "[[6 8 1 5 7]\n",
      " [2 2 2 4 9]\n",
      " [1 5 0 0 9]\n",
      " [8 4 6 9 6]\n",
      " [4 0 8 6 5]]\n"
     ]
    }
   ],
   "source": [
    "import numpy as np\n",
    "random_array = np.random.randint(0, 10, size=(5, 5))\n",
    "print(random_array)"
   ]
  },
  {
   "cell_type": "markdown",
   "metadata": {
    "id": "LlilKAMF3bMX"
   },
   "source": [
    "Replace all values in the sub-array with a specific value."
   ]
  },
  {
   "cell_type": "code",
   "execution_count": 14,
   "metadata": {
    "id": "gShfqRGm2REI"
   },
   "outputs": [
    {
     "name": "stdout",
     "output_type": "stream",
     "text": [
      "[[ 1  6  5  5  7]\n",
      " [ 1 44 44 44  3]\n",
      " [ 7 44 44 44  1]\n",
      " [ 8 44 44 44  5]\n",
      " [ 7  2  1  6  4]]\n"
     ]
    }
   ],
   "source": [
    "random_array = np.random.randint(0, 10, size=(5, 5))\n",
    "random_array[1:4, 1:4] = 44\n",
    "print(random_array)"
   ]
  },
  {
   "cell_type": "markdown",
   "metadata": {
    "id": "1kUY7u023gfF"
   },
   "source": [
    "Extract the subarray [[3, 4], [7, 8]] from the array [[1, 2], [3, 4], [5, 6], [7, 8]]."
   ]
  },
  {
   "cell_type": "code",
   "execution_count": 15,
   "metadata": {
    "id": "UmgqjBwC3_4V"
   },
   "outputs": [
    {
     "name": "stdout",
     "output_type": "stream",
     "text": [
      "[[3 4]\n",
      " [7 8]]\n"
     ]
    }
   ],
   "source": [
    "my_array=np.array([[1, 2], [3, 4], [5, 6], [7, 8]])\n",
    "subarray=my_array[[1,3]]\n",
    "print(subarray)"
   ]
  },
  {
   "cell_type": "markdown",
   "metadata": {
    "id": "vPrCHS_O3jK9"
   },
   "source": [
    "\n",
    "# **3. Broadcasting:**"
   ]
  },
  {
   "cell_type": "markdown",
   "metadata": {
    "id": "W3WUM5Cc3phc"
   },
   "source": [
    "Create a 2D array of shape (3, 3) with values from 0 to 2.\n"
   ]
  },
  {
   "cell_type": "markdown",
   "metadata": {},
   "source": [
    "### using Title method"
   ]
  },
  {
   "cell_type": "code",
   "execution_count": 16,
   "metadata": {},
   "outputs": [
    {
     "data": {
      "text/plain": [
       "array([[0, 1, 2],\n",
       "       [0, 1, 2],\n",
       "       [0, 1, 2]])"
      ]
     },
     "execution_count": 16,
     "metadata": {},
     "output_type": "execute_result"
    }
   ],
   "source": [
    "array=np.array([0,1,2])\n",
    "array\n",
    "new_array=np.tile(array,(3,1))\n",
    "new_array"
   ]
  },
  {
   "cell_type": "markdown",
   "metadata": {
    "id": "J5XPwN3A3rXG"
   },
   "source": [
    "Add a 1D array of shape (3,) to each row of the 2D array using broadcasting."
   ]
  },
  {
   "cell_type": "code",
   "execution_count": 17,
   "metadata": {
    "id": "k4FM2g_c2RJv"
   },
   "outputs": [
    {
     "name": "stdout",
     "output_type": "stream",
     "text": [
      "[[ 3  7 11]\n",
      " [ 6  7  9]\n",
      " [ 4  6 11]]\n"
     ]
    }
   ],
   "source": [
    "array_1d=np.array([3,6,9])\n",
    "array_2d=np.array([[0,1,2],[3,1,0],[1,0,2]])\n",
    "add_arr=array_1d+array_2d\n",
    "print(add_arr)"
   ]
  },
  {
   "cell_type": "markdown",
   "metadata": {
    "id": "9CbtQS3w4PA3"
   },
   "source": [
    "# **4. Concatenation and Splitting**"
   ]
  },
  {
   "cell_type": "markdown",
   "metadata": {
    "id": "yMg_umVy4ILG"
   },
   "source": [
    "\n",
    "1.   Create two 2D arrays of shape (3, 3) with random integers.\n",
    "2.   Concatenate them horizontally and vertically.\n",
    "3.   Split the concatenated arrays back into the original arrays."
   ]
  },
  {
   "cell_type": "code",
   "execution_count": 18,
   "metadata": {
    "id": "wXiCa2Sn8XHP"
   },
   "outputs": [
    {
     "name": "stdout",
     "output_type": "stream",
     "text": [
      "concantenate_horizantal\n",
      "[[ 2  8  5 12 10 11]\n",
      " [ 8  5  8 17 16 13]\n",
      " [ 9  2  1 17 16 12]]\n",
      "split_horizantal\n",
      "[[2 8 5]\n",
      " [8 5 8]\n",
      " [9 2 1]]\n",
      "[[12 10 11]\n",
      " [17 16 13]\n",
      " [17 16 12]]\n"
     ]
    }
   ],
   "source": [
    "random_array_1=np.random.randint(0,10,size=(3,3))\n",
    "random_array_2=np.random.randint(10,18, size=(3,3))\n",
    "concantenate_horizantal=np.hstack((random_array_1,random_array_2))\n",
    "print(\"concantenate_horizantal\")\n",
    "print(concantenate_horizantal)\n",
    "split_horizantal=np.hsplit(concantenate_horizantal,2)\n",
    "print(\"split_horizantal\")\n",
    "print(split_horizantal[0])\n",
    "print(split_horizantal[1])"
   ]
  },
  {
   "cell_type": "code",
   "execution_count": 19,
   "metadata": {
    "id": "yAiYe6vj8XSW"
   },
   "outputs": [
    {
     "name": "stdout",
     "output_type": "stream",
     "text": [
      "concantenate_vertical\n",
      "[[ 2  8  5]\n",
      " [ 8  5  8]\n",
      " [ 9  2  1]\n",
      " [12 10 11]\n",
      " [17 16 13]\n",
      " [17 16 12]]\n",
      "split_vertical\n",
      "[[2 8 5]\n",
      " [8 5 8]\n",
      " [9 2 1]]\n",
      "[[12 10 11]\n",
      " [17 16 13]\n",
      " [17 16 12]]\n"
     ]
    }
   ],
   "source": [
    "concantenate_vertical=np.vstack((random_array_1,random_array_2))\n",
    "print(\"concantenate_vertical\")\n",
    "print(concantenate_vertical)\n",
    "split_vertical=np.vsplit(concantenate_vertical,2)\n",
    "print(\"split_vertical\")\n",
    "print(split_vertical[0])\n",
    "print(split_vertical[1])"
   ]
  },
  {
   "cell_type": "markdown",
   "metadata": {
    "id": "2CliNLH8YG3j"
   },
   "source": [
    "# **Bonus Question**\n",
    "\n",
    "Find mode of this array  = [1,2,1,2,3,4,5,6,8,9,1,2,2,22,21,1,1,1,1,2,5]\n",
    "\n",
    "Hint: Use count and also loop"
   ]
  },
  {
   "cell_type": "code",
   "execution_count": 20,
   "metadata": {
    "id": "JGe2Qe3SYaHq"
   },
   "outputs": [
    {
     "name": "stdout",
     "output_type": "stream",
     "text": [
      "ModeResult(mode=1, count=7)\n"
     ]
    }
   ],
   "source": [
    "from scipy import stats\n",
    "array=np.array([1,2,1,2,3,4,5,6,8,9,1,2,2,22,21,1,1,1,1,2,5])\n",
    "print(stats.mode(array))"
   ]
  },
  {
   "cell_type": "markdown",
   "metadata": {
    "id": "1t9n5GQdYbHN"
   },
   "source": [
    "# **Notes**\n",
    "\n",
    "\n",
    "1.   All the Questions carry Equal Points (2 points)\n",
    "\n",
    "2.   Bonus Question carry 5 points\n",
    "\n",
    "3.   Review lecture for any query\n",
    "\n",
    "Good Luck!\n",
    "\n"
   ]
  },
  {
   "cell_type": "code",
   "execution_count": null,
   "metadata": {
    "id": "yxT9-gJfYugV"
   },
   "outputs": [],
   "source": []
  }
 ],
 "metadata": {
  "colab": {
   "provenance": []
  },
  "kernelspec": {
   "display_name": "Python 3 (ipykernel)",
   "language": "python",
   "name": "python3"
  },
  "language_info": {
   "codemirror_mode": {
    "name": "ipython",
    "version": 3
   },
   "file_extension": ".py",
   "mimetype": "text/x-python",
   "name": "python",
   "nbconvert_exporter": "python",
   "pygments_lexer": "ipython3",
   "version": "3.11.5"
  }
 },
 "nbformat": 4,
 "nbformat_minor": 4
}
